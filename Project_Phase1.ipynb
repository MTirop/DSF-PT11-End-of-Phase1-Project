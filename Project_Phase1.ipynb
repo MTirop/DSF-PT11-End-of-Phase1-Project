{
 "cells": [
  {
   "cell_type": "markdown",
   "id": "85f93ac7",
   "metadata": {},
   "source": [
    "## ASSESMENT OF RISKS ASSOCIATED WITH VENTURING INTO AVIATION MARKET"
   ]
  },
  {
   "cell_type": "markdown",
   "id": "f6cd3119",
   "metadata": {},
   "source": [
    "###        1.1  BUSINESS PROBLEM"
   ]
  },
  {
   "cell_type": "markdown",
   "id": "5e234e8d",
   "metadata": {},
   "source": [
    "This project focuses on evaluating different categories of aircraft and selecting the best initial options for the company's entry into the aviation market, specifically targeting airplanes for commercial and private enterprises. It will therefore focus on analysis historical data giving an overview of the risks associated with running aircraft business such as operational risks, mantainance costs based on aircraft damage ,aircraft safety measured by the number of accident incidences."
   ]
  },
  {
   "cell_type": "markdown",
   "id": "15f55006",
   "metadata": {},
   "source": [
    "####           1.1.0 OBJECTIVES\n",
    "* To determine potential risks associated with aircraft business\n",
    "* To determine which aircraft are the lowest risk for the company to Venture into.\n",
    "* To identify the most economical aircraft for recommendation to the management."
   ]
  },
  {
   "cell_type": "markdown",
   "id": "dc15240b",
   "metadata": {},
   "source": [
    "#### 1.2 EXPLORATORY DATA ALALYSIS(EDA)\n",
    "The goal of this project is to help the company make informed decisions on whether to enter into Aviation industry and this can only be achieved by carry out comprehensive analysis of the data given to determine the level of risks associated with this industry. The analysis has therefore employed the use of pandas and various libraries to explore the data."
   ]
  },
  {
   "cell_type": "code",
   "execution_count": 46,
   "id": "b663a60c",
   "metadata": {},
   "outputs": [],
   "source": [
    "#Importing the various libraries for purposes of reading the data, statitical /Eploratory data analysis and data visualization\n",
    "import pandas as pd\n",
    "import numpy as np\n",
    "import matplotlib.pyplot as plt\n",
    "import seaborn as sns\n",
    "%matplotlib inline\n"
   ]
  },
  {
   "cell_type": "code",
   "execution_count": 47,
   "id": "20f6e268",
   "metadata": {},
   "outputs": [],
   "source": [
    "# Reading 'AviationData.csv' into pandas dataframe with the variable name df\n",
    "df = pd.read_csv('Data\\\\AviationData.csv', encoding = 'latin1', low_memory= False)"
   ]
  },
  {
   "cell_type": "code",
   "execution_count": 48,
   "id": "b77e3f15",
   "metadata": {},
   "outputs": [],
   "source": [
    "#cleaning date column - converting it to datetime\n",
    "df['Event.Date'] = pd.to_datetime(df['Event.Date'], errors='coerce')\n",
    "#checking maximum and minimum dates to determine which dates to work with\n",
    "df = df[df['Event.Date'].dt.year.between(2012, 2022)]"
   ]
  },
  {
   "cell_type": "code",
   "execution_count": 49,
   "id": "e3696ba1",
   "metadata": {},
   "outputs": [
    {
     "data": {
      "text/html": [
       "<div>\n",
       "<style scoped>\n",
       "    .dataframe tbody tr th:only-of-type {\n",
       "        vertical-align: middle;\n",
       "    }\n",
       "\n",
       "    .dataframe tbody tr th {\n",
       "        vertical-align: top;\n",
       "    }\n",
       "\n",
       "    .dataframe thead th {\n",
       "        text-align: right;\n",
       "    }\n",
       "</style>\n",
       "<table border=\"1\" class=\"dataframe\">\n",
       "  <thead>\n",
       "    <tr style=\"text-align: right;\">\n",
       "      <th></th>\n",
       "      <th>Event.Id</th>\n",
       "      <th>Investigation.Type</th>\n",
       "      <th>Accident.Number</th>\n",
       "      <th>Event.Date</th>\n",
       "      <th>Location</th>\n",
       "      <th>Country</th>\n",
       "      <th>Latitude</th>\n",
       "      <th>Longitude</th>\n",
       "      <th>Airport.Code</th>\n",
       "      <th>Airport.Name</th>\n",
       "      <th>...</th>\n",
       "      <th>Purpose.of.flight</th>\n",
       "      <th>Air.carrier</th>\n",
       "      <th>Total.Fatal.Injuries</th>\n",
       "      <th>Total.Serious.Injuries</th>\n",
       "      <th>Total.Minor.Injuries</th>\n",
       "      <th>Total.Uninjured</th>\n",
       "      <th>Weather.Condition</th>\n",
       "      <th>Broad.phase.of.flight</th>\n",
       "      <th>Report.Status</th>\n",
       "      <th>Publication.Date</th>\n",
       "    </tr>\n",
       "  </thead>\n",
       "  <tbody>\n",
       "    <tr>\n",
       "      <th>71225</th>\n",
       "      <td>20120102X93914</td>\n",
       "      <td>Accident</td>\n",
       "      <td>ERA12LA131</td>\n",
       "      <td>2012-01-01</td>\n",
       "      <td>Willimantic, CT</td>\n",
       "      <td>United States</td>\n",
       "      <td>414430N</td>\n",
       "      <td>0721123W</td>\n",
       "      <td>IJD</td>\n",
       "      <td>Windham Airport</td>\n",
       "      <td>...</td>\n",
       "      <td>Personal</td>\n",
       "      <td>NaN</td>\n",
       "      <td>0.0</td>\n",
       "      <td>0.0</td>\n",
       "      <td>0.0</td>\n",
       "      <td>1.0</td>\n",
       "      <td>VMC</td>\n",
       "      <td>NaN</td>\n",
       "      <td>A partial loss of engine power due to carburet...</td>\n",
       "      <td>25-09-2020</td>\n",
       "    </tr>\n",
       "    <tr>\n",
       "      <th>71226</th>\n",
       "      <td>20120103X02043</td>\n",
       "      <td>Accident</td>\n",
       "      <td>CEN12LA120</td>\n",
       "      <td>2012-01-01</td>\n",
       "      <td>Lohn, TX</td>\n",
       "      <td>United States</td>\n",
       "      <td>311930N</td>\n",
       "      <td>0992430W</td>\n",
       "      <td>NaN</td>\n",
       "      <td>NaN</td>\n",
       "      <td>...</td>\n",
       "      <td>Aerial Observation</td>\n",
       "      <td>SKY HORSE HELICOPTERS INC</td>\n",
       "      <td>0.0</td>\n",
       "      <td>0.0</td>\n",
       "      <td>2.0</td>\n",
       "      <td>0.0</td>\n",
       "      <td>VMC</td>\n",
       "      <td>NaN</td>\n",
       "      <td>The improper installation of the tail rotor ge...</td>\n",
       "      <td>25-09-2020</td>\n",
       "    </tr>\n",
       "    <tr>\n",
       "      <th>71227</th>\n",
       "      <td>20111230X02532</td>\n",
       "      <td>Accident</td>\n",
       "      <td>WPR12CA073</td>\n",
       "      <td>2012-01-02</td>\n",
       "      <td>Eureka, CA</td>\n",
       "      <td>United States</td>\n",
       "      <td>404812N</td>\n",
       "      <td>0124646W</td>\n",
       "      <td>EKA</td>\n",
       "      <td>Murray Field Airport</td>\n",
       "      <td>...</td>\n",
       "      <td>Personal</td>\n",
       "      <td>NaN</td>\n",
       "      <td>0.0</td>\n",
       "      <td>0.0</td>\n",
       "      <td>0.0</td>\n",
       "      <td>1.0</td>\n",
       "      <td>VMC</td>\n",
       "      <td>NaN</td>\n",
       "      <td>A collision with a deer while landing.</td>\n",
       "      <td>25-09-2020</td>\n",
       "    </tr>\n",
       "    <tr>\n",
       "      <th>71228</th>\n",
       "      <td>20120103X35104</td>\n",
       "      <td>Accident</td>\n",
       "      <td>ERA12CA134</td>\n",
       "      <td>2012-01-02</td>\n",
       "      <td>River Ranch, FL</td>\n",
       "      <td>United States</td>\n",
       "      <td>027543N</td>\n",
       "      <td>0813448W</td>\n",
       "      <td>2RR</td>\n",
       "      <td>River Ranch</td>\n",
       "      <td>...</td>\n",
       "      <td>Personal</td>\n",
       "      <td>NaN</td>\n",
       "      <td>0.0</td>\n",
       "      <td>0.0</td>\n",
       "      <td>0.0</td>\n",
       "      <td>3.0</td>\n",
       "      <td>VMC</td>\n",
       "      <td>NaN</td>\n",
       "      <td>The pilots failure to maintain directional co...</td>\n",
       "      <td>25-09-2020</td>\n",
       "    </tr>\n",
       "    <tr>\n",
       "      <th>71229</th>\n",
       "      <td>20120103X94513</td>\n",
       "      <td>Accident</td>\n",
       "      <td>ERA12LA132</td>\n",
       "      <td>2012-01-02</td>\n",
       "      <td>Shelter Island, NY</td>\n",
       "      <td>United States</td>\n",
       "      <td>004140N</td>\n",
       "      <td>0722035W</td>\n",
       "      <td>NaN</td>\n",
       "      <td>Klenawicus Airfield</td>\n",
       "      <td>...</td>\n",
       "      <td>Personal</td>\n",
       "      <td>NORTHEASTERN AVIATION CORP</td>\n",
       "      <td>0.0</td>\n",
       "      <td>0.0</td>\n",
       "      <td>0.0</td>\n",
       "      <td>1.0</td>\n",
       "      <td>VMC</td>\n",
       "      <td>NaN</td>\n",
       "      <td>A hard landing, which resulted in a failure of...</td>\n",
       "      <td>25-09-2020</td>\n",
       "    </tr>\n",
       "  </tbody>\n",
       "</table>\n",
       "<p>5 rows × 31 columns</p>\n",
       "</div>"
      ],
      "text/plain": [
       "             Event.Id Investigation.Type Accident.Number Event.Date  \\\n",
       "71225  20120102X93914           Accident      ERA12LA131 2012-01-01   \n",
       "71226  20120103X02043           Accident      CEN12LA120 2012-01-01   \n",
       "71227  20111230X02532           Accident      WPR12CA073 2012-01-02   \n",
       "71228  20120103X35104           Accident      ERA12CA134 2012-01-02   \n",
       "71229  20120103X94513           Accident      ERA12LA132 2012-01-02   \n",
       "\n",
       "                 Location        Country Latitude Longitude Airport.Code  \\\n",
       "71225     Willimantic, CT  United States  414430N  0721123W          IJD   \n",
       "71226            Lohn, TX  United States  311930N  0992430W          NaN   \n",
       "71227          Eureka, CA  United States  404812N  0124646W          EKA   \n",
       "71228     River Ranch, FL  United States  027543N  0813448W          2RR   \n",
       "71229  Shelter Island, NY  United States  004140N  0722035W          NaN   \n",
       "\n",
       "               Airport.Name  ...   Purpose.of.flight  \\\n",
       "71225       Windham Airport  ...            Personal   \n",
       "71226                   NaN  ...  Aerial Observation   \n",
       "71227  Murray Field Airport  ...            Personal   \n",
       "71228           River Ranch  ...            Personal   \n",
       "71229   Klenawicus Airfield  ...            Personal   \n",
       "\n",
       "                      Air.carrier Total.Fatal.Injuries Total.Serious.Injuries  \\\n",
       "71225                         NaN                  0.0                    0.0   \n",
       "71226   SKY HORSE HELICOPTERS INC                  0.0                    0.0   \n",
       "71227                         NaN                  0.0                    0.0   \n",
       "71228                         NaN                  0.0                    0.0   \n",
       "71229  NORTHEASTERN AVIATION CORP                  0.0                    0.0   \n",
       "\n",
       "      Total.Minor.Injuries Total.Uninjured Weather.Condition  \\\n",
       "71225                  0.0             1.0               VMC   \n",
       "71226                  2.0             0.0               VMC   \n",
       "71227                  0.0             1.0               VMC   \n",
       "71228                  0.0             3.0               VMC   \n",
       "71229                  0.0             1.0               VMC   \n",
       "\n",
       "       Broad.phase.of.flight  \\\n",
       "71225                    NaN   \n",
       "71226                    NaN   \n",
       "71227                    NaN   \n",
       "71228                    NaN   \n",
       "71229                    NaN   \n",
       "\n",
       "                                           Report.Status Publication.Date  \n",
       "71225  A partial loss of engine power due to carburet...       25-09-2020  \n",
       "71226  The improper installation of the tail rotor ge...       25-09-2020  \n",
       "71227             A collision with a deer while landing.       25-09-2020  \n",
       "71228  The pilots failure to maintain directional co...       25-09-2020  \n",
       "71229  A hard landing, which resulted in a failure of...       25-09-2020  \n",
       "\n",
       "[5 rows x 31 columns]"
      ]
     },
     "execution_count": 49,
     "metadata": {},
     "output_type": "execute_result"
    }
   ],
   "source": [
    "#Getting the first five rows of the data to get a quick synopsis of the data structure in order to dertimine the next cause of action\n",
    "df.head()"
   ]
  },
  {
   "cell_type": "code",
   "execution_count": 50,
   "id": "2eb2184a",
   "metadata": {},
   "outputs": [
    {
     "name": "stdout",
     "output_type": "stream",
     "text": [
      "<class 'pandas.core.frame.DataFrame'>\n",
      "Index: 17664 entries, 71225 to 88888\n",
      "Data columns (total 31 columns):\n",
      " #   Column                  Non-Null Count  Dtype         \n",
      "---  ------                  --------------  -----         \n",
      " 0   Event.Id                17664 non-null  object        \n",
      " 1   Investigation.Type      17664 non-null  object        \n",
      " 2   Accident.Number         17664 non-null  object        \n",
      " 3   Event.Date              17664 non-null  datetime64[ns]\n",
      " 4   Location                17664 non-null  object        \n",
      " 5   Country                 17664 non-null  object        \n",
      " 6   Latitude                15571 non-null  object        \n",
      " 7   Longitude               15571 non-null  object        \n",
      " 8   Airport.Code            10523 non-null  object        \n",
      " 9   Airport.Name            10486 non-null  object        \n",
      " 10  Injury.Severity         16815 non-null  object        \n",
      " 11  Aircraft.damage         16437 non-null  object        \n",
      " 12  Aircraft.Category       17349 non-null  object        \n",
      " 13  Registration.Number     17654 non-null  object        \n",
      " 14  Make                    17649 non-null  object        \n",
      " 15  Model                   17644 non-null  object        \n",
      " 16  Amateur.Built           17664 non-null  object        \n",
      " 17  Number.of.Engines       14527 non-null  float64       \n",
      " 18  Engine.Type             12809 non-null  object        \n",
      " 19  FAR.Description         16957 non-null  object        \n",
      " 20  Schedule                1740 non-null   object        \n",
      " 21  Purpose.of.flight       14130 non-null  object        \n",
      " 22  Air.carrier             8506 non-null   object        \n",
      " 23  Total.Fatal.Injuries    17664 non-null  float64       \n",
      " 24  Total.Serious.Injuries  17664 non-null  float64       \n",
      " 25  Total.Minor.Injuries    17664 non-null  float64       \n",
      " 26  Total.Uninjured         17664 non-null  float64       \n",
      " 27  Weather.Condition       14275 non-null  object        \n",
      " 28  Broad.phase.of.flight   0 non-null      object        \n",
      " 29  Report.Status           11983 non-null  object        \n",
      " 30  Publication.Date        16651 non-null  object        \n",
      "dtypes: datetime64[ns](1), float64(5), object(25)\n",
      "memory usage: 4.3+ MB\n"
     ]
    }
   ],
   "source": [
    "#Summary review of the DataFrame\n",
    "df.info()"
   ]
  },
  {
   "cell_type": "markdown",
   "id": "0ee7052b",
   "metadata": {},
   "source": [
    "Summary Information on the dataFrame indicates the is data cleaning that needs to be done, from the above output, the data type for Accidents.Number has been returned as n object and not an interger and yet it takes the form of discrete data."
   ]
  },
  {
   "cell_type": "code",
   "execution_count": 51,
   "id": "a24710cf",
   "metadata": {},
   "outputs": [
    {
     "data": {
      "text/plain": [
       "(17664, 31)"
      ]
     },
     "execution_count": 51,
     "metadata": {},
     "output_type": "execute_result"
    }
   ],
   "source": [
    "df.shape"
   ]
  },
  {
   "cell_type": "code",
   "execution_count": 52,
   "id": "5b6c23e5",
   "metadata": {},
   "outputs": [
    {
     "name": "stdout",
     "output_type": "stream",
     "text": [
      "Aircraft.Category\n",
      "Airplane             14749\n",
      "Helicopter            1936\n",
      "Glider                 247\n",
      "Balloon                116\n",
      "Gyrocraft              109\n",
      "Weight-Shift            97\n",
      "Powered Parachute       54\n",
      "Ultralight              14\n",
      "Unknown                 12\n",
      "WSFT                     9\n",
      "UNK                      2\n",
      "Rocket                   1\n",
      "Powered-Lift             1\n",
      "Blimp                    1\n",
      "ULTR                     1\n",
      "Name: count, dtype: int64\n"
     ]
    }
   ],
   "source": [
    "# To determine the possible outliers in the dataframe- Values that don't fit with the pattern of the data\n",
    "category_counts = df['Aircraft.Category'].value_counts()\n",
    "print(category_counts)"
   ]
  },
  {
   "cell_type": "markdown",
   "id": "f7397d73",
   "metadata": {},
   "source": [
    "The aircraft Category has one that is unknown which is a clear indicator of a data point that significantly differ from the rest."
   ]
  },
  {
   "cell_type": "code",
   "execution_count": 53,
   "id": "590885a2",
   "metadata": {},
   "outputs": [
    {
     "name": "stdout",
     "output_type": "stream",
     "text": [
      "Accident.Number\n",
      "WPR23LA045    2\n",
      "DCA22WA167    2\n",
      "CEN23MA034    2\n",
      "DCA22LA135    2\n",
      "DCA22WA158    2\n",
      "             ..\n",
      "GAA15CA218    1\n",
      "ERA15WA303    1\n",
      "OPS15IA020    1\n",
      "CEN15LA359    1\n",
      "ERA23LA097    1\n",
      "Name: count, Length: 17638, dtype: int64\n"
     ]
    }
   ],
   "source": [
    "Accident_counts = df['Accident.Number'].value_counts()\n",
    "print(Accident_counts)"
   ]
  },
  {
   "cell_type": "code",
   "execution_count": 54,
   "id": "19b3be5a",
   "metadata": {},
   "outputs": [
    {
     "name": "stdout",
     "output_type": "stream",
     "text": [
      "Aircraft.damage\n",
      "Substantial    13497\n",
      "Destroyed       2231\n",
      "Minor            590\n",
      "Unknown          119\n",
      "Name: count, dtype: int64\n"
     ]
    }
   ],
   "source": [
    "damage_counts = df['Aircraft.damage'].value_counts()\n",
    "print(damage_counts)"
   ]
  },
  {
   "cell_type": "code",
   "execution_count": 55,
   "id": "53d61554",
   "metadata": {},
   "outputs": [
    {
     "name": "stdout",
     "output_type": "stream",
     "text": [
      "Number.of.Engines\n",
      "1.0    12439\n",
      "2.0     1851\n",
      "0.0      178\n",
      "4.0       44\n",
      "3.0       11\n",
      "8.0        3\n",
      "6.0        1\n",
      "Name: count, dtype: int64\n"
     ]
    }
   ],
   "source": [
    "Engine_counts = df['Number.of.Engines'].value_counts()\n",
    "print(Engine_counts)"
   ]
  },
  {
   "cell_type": "code",
   "execution_count": 56,
   "id": "63e486aa",
   "metadata": {},
   "outputs": [
    {
     "data": {
      "text/plain": [
       "Event.Id                      0\n",
       "Investigation.Type            0\n",
       "Accident.Number               0\n",
       "Event.Date                    0\n",
       "Location                      0\n",
       "Country                       0\n",
       "Latitude                   2093\n",
       "Longitude                  2093\n",
       "Airport.Code               7141\n",
       "Airport.Name               7178\n",
       "Injury.Severity             849\n",
       "Aircraft.damage            1227\n",
       "Aircraft.Category           315\n",
       "Registration.Number          10\n",
       "Make                         15\n",
       "Model                        20\n",
       "Amateur.Built                 0\n",
       "Number.of.Engines          3137\n",
       "Engine.Type                4855\n",
       "FAR.Description             707\n",
       "Schedule                  15924\n",
       "Purpose.of.flight          3534\n",
       "Air.carrier                9158\n",
       "Total.Fatal.Injuries          0\n",
       "Total.Serious.Injuries        0\n",
       "Total.Minor.Injuries          0\n",
       "Total.Uninjured               0\n",
       "Weather.Condition          3389\n",
       "Broad.phase.of.flight     17664\n",
       "Report.Status              5681\n",
       "Publication.Date           1013\n",
       "dtype: int64"
      ]
     },
     "execution_count": 56,
     "metadata": {},
     "output_type": "execute_result"
    }
   ],
   "source": [
    "#To identify any missing values in the dataframe\n",
    "df.isnull().sum()"
   ]
  },
  {
   "cell_type": "code",
   "execution_count": 57,
   "id": "0cdcd9b6",
   "metadata": {},
   "outputs": [
    {
     "data": {
      "text/plain": [
       "Aircraft.Category\n",
       "Airplane             14749\n",
       "Helicopter            1936\n",
       "NaN                    315\n",
       "Glider                 247\n",
       "Balloon                116\n",
       "Gyrocraft              109\n",
       "Weight-Shift            97\n",
       "Powered Parachute       54\n",
       "Ultralight              14\n",
       "Unknown                 12\n",
       "WSFT                     9\n",
       "UNK                      2\n",
       "Rocket                   1\n",
       "Powered-Lift             1\n",
       "Blimp                    1\n",
       "ULTR                     1\n",
       "Name: count, dtype: int64"
      ]
     },
     "execution_count": 57,
     "metadata": {},
     "output_type": "execute_result"
    }
   ],
   "source": [
    "#Using value counts for categorical columns which are important in arriving at the conclusion to determine unique values\n",
    "df['Aircraft.Category'].value_counts(dropna=False)"
   ]
  },
  {
   "cell_type": "code",
   "execution_count": 58,
   "id": "27876010",
   "metadata": {},
   "outputs": [
    {
     "data": {
      "text/plain": [
       "<class 'pandas.core.series.Series'>    31\n",
       "Name: count, dtype: int64"
      ]
     },
     "execution_count": 58,
     "metadata": {},
     "output_type": "execute_result"
    }
   ],
   "source": [
    "# To identify how many different data types are in a column.\n",
    "df.apply(type).value_counts()\n"
   ]
  },
  {
   "cell_type": "code",
   "execution_count": 59,
   "id": "bb7ac1c5",
   "metadata": {},
   "outputs": [
    {
     "name": "stdout",
     "output_type": "stream",
     "text": [
      "0 Event.Id\n",
      "1 Investigation.Type\n",
      "2 Accident.Number\n",
      "3 Event.Date\n",
      "4 Location\n",
      "5 Country\n",
      "6 Latitude\n",
      "7 Longitude\n",
      "8 Airport.Code\n",
      "9 Airport.Name\n",
      "10 Injury.Severity\n",
      "11 Aircraft.damage\n",
      "12 Aircraft.Category\n",
      "13 Registration.Number\n",
      "14 Make\n",
      "15 Model\n",
      "16 Amateur.Built\n",
      "17 Number.of.Engines\n",
      "18 Engine.Type\n",
      "19 FAR.Description\n",
      "20 Schedule\n",
      "21 Purpose.of.flight\n",
      "22 Air.carrier\n",
      "23 Total.Fatal.Injuries\n",
      "24 Total.Serious.Injuries\n",
      "25 Total.Minor.Injuries\n",
      "26 Total.Uninjured\n",
      "27 Weather.Condition\n",
      "28 Broad.phase.of.flight\n",
      "29 Report.Status\n",
      "30 Publication.Date\n"
     ]
    }
   ],
   "source": [
    "# Check column names with their positions\n",
    "for i, col in enumerate(df.columns):\n",
    "    print(i, col)"
   ]
  },
  {
   "cell_type": "code",
   "execution_count": 60,
   "id": "5cb0b816",
   "metadata": {},
   "outputs": [
    {
     "name": "stdout",
     "output_type": "stream",
     "text": [
      "Longitude\n",
      "<class 'str'>      15571\n",
      "<class 'float'>     2093\n",
      "Name: count, dtype: int64\n",
      "Latitude\n",
      "<class 'str'>      15571\n",
      "<class 'float'>     2093\n",
      "Name: count, dtype: int64\n",
      "Broad.phase.of.flight\n",
      "<class 'float'>    17664\n",
      "Name: count, dtype: int64\n"
     ]
    }
   ],
   "source": [
    "# Check types inside each column\n",
    "print(df['Longitude'].apply(type).value_counts())\n",
    "print(df['Latitude'].apply(type).value_counts())\n",
    "print(df['Broad.phase.of.flight'].apply(type).value_counts())\n"
   ]
  },
  {
   "cell_type": "markdown",
   "id": "7c72b786",
   "metadata": {},
   "source": [
    "These columns contains both numeric and text values, however those columns are not critical to the primary objectives of our our data analysis,hence no deeper analysis on those columns."
   ]
  },
  {
   "cell_type": "markdown",
   "id": "2c176391",
   "metadata": {},
   "source": [
    "### DATA CLEANING\n",
    "It is important to employ the critical columns that will help determine the risk associated with venturing into aviation business. A new set of data will therefore be created with the columns only neccesary for this analysis. The columns include but not limited to: Event ID,Accident.Number,Aircraft Category,Aircraft damage, Event date, Total Fatal Injuries, Total Serious Injuries, weather condition, Injury Severity, Broad phase of flight.These fields are directly related to accident frequency, severity, aircraft type, and environmental conditions, which are critical for evaluating business risks in aviation."
   ]
  },
  {
   "cell_type": "code",
   "execution_count": 61,
   "id": "56a66329",
   "metadata": {},
   "outputs": [],
   "source": [
    "#Percentage of null values in each category to determine the most critical columns to deal with\n",
    "Missing_percentage = (df.isnull().sum()/len(df))*100\n"
   ]
  },
  {
   "cell_type": "code",
   "execution_count": 62,
   "id": "81cb5663",
   "metadata": {},
   "outputs": [
    {
     "name": "stdout",
     "output_type": "stream",
     "text": [
      "Event.Id                    0.000000\n",
      "Investigation.Type          0.000000\n",
      "Accident.Number             0.000000\n",
      "Event.Date                  0.000000\n",
      "Location                    0.000000\n",
      "Country                     0.000000\n",
      "Latitude                   11.848958\n",
      "Longitude                  11.848958\n",
      "Airport.Code               40.426857\n",
      "Airport.Name               40.636322\n",
      "Injury.Severity             4.806386\n",
      "Aircraft.damage             6.946332\n",
      "Aircraft.Category           1.783288\n",
      "Registration.Number         0.056612\n",
      "Make                        0.084918\n",
      "Model                       0.113225\n",
      "Amateur.Built               0.000000\n",
      "Number.of.Engines          17.759284\n",
      "Engine.Type                27.485281\n",
      "FAR.Description             4.002491\n",
      "Schedule                   90.149457\n",
      "Purpose.of.flight          20.006793\n",
      "Air.carrier                51.845562\n",
      "Total.Fatal.Injuries        0.000000\n",
      "Total.Serious.Injuries      0.000000\n",
      "Total.Minor.Injuries        0.000000\n",
      "Total.Uninjured             0.000000\n",
      "Weather.Condition          19.185915\n",
      "Broad.phase.of.flight     100.000000\n",
      "Report.Status              32.161458\n",
      "Publication.Date            5.734828\n",
      "dtype: float64\n"
     ]
    }
   ],
   "source": [
    "print(Missing_percentage)"
   ]
  },
  {
   "cell_type": "code",
   "execution_count": 63,
   "id": "51eef585",
   "metadata": {},
   "outputs": [],
   "source": [
    "#Pick columns with less than 10% null values\n",
    "Threshold = 30"
   ]
  },
  {
   "cell_type": "code",
   "execution_count": 64,
   "id": "4f96690b",
   "metadata": {},
   "outputs": [],
   "source": [
    "# Filtering important columns based on the threshold\n",
    "columns_to_keep = Missing_percentage[Missing_percentage < Threshold].index"
   ]
  },
  {
   "cell_type": "code",
   "execution_count": 65,
   "id": "ee82ed34",
   "metadata": {},
   "outputs": [],
   "source": [
    "# Creating a new dataframe from the columns to keep into a variable called df_filtered\n",
    "df_filtered = df[columns_to_keep]"
   ]
  },
  {
   "cell_type": "code",
   "execution_count": 66,
   "id": "7557cbc1",
   "metadata": {},
   "outputs": [
    {
     "data": {
      "text/html": [
       "<div>\n",
       "<style scoped>\n",
       "    .dataframe tbody tr th:only-of-type {\n",
       "        vertical-align: middle;\n",
       "    }\n",
       "\n",
       "    .dataframe tbody tr th {\n",
       "        vertical-align: top;\n",
       "    }\n",
       "\n",
       "    .dataframe thead th {\n",
       "        text-align: right;\n",
       "    }\n",
       "</style>\n",
       "<table border=\"1\" class=\"dataframe\">\n",
       "  <thead>\n",
       "    <tr style=\"text-align: right;\">\n",
       "      <th></th>\n",
       "      <th>Event.Id</th>\n",
       "      <th>Investigation.Type</th>\n",
       "      <th>Accident.Number</th>\n",
       "      <th>Event.Date</th>\n",
       "      <th>Location</th>\n",
       "      <th>Country</th>\n",
       "      <th>Latitude</th>\n",
       "      <th>Longitude</th>\n",
       "      <th>Injury.Severity</th>\n",
       "      <th>Aircraft.damage</th>\n",
       "      <th>...</th>\n",
       "      <th>Number.of.Engines</th>\n",
       "      <th>Engine.Type</th>\n",
       "      <th>FAR.Description</th>\n",
       "      <th>Purpose.of.flight</th>\n",
       "      <th>Total.Fatal.Injuries</th>\n",
       "      <th>Total.Serious.Injuries</th>\n",
       "      <th>Total.Minor.Injuries</th>\n",
       "      <th>Total.Uninjured</th>\n",
       "      <th>Weather.Condition</th>\n",
       "      <th>Publication.Date</th>\n",
       "    </tr>\n",
       "  </thead>\n",
       "  <tbody>\n",
       "    <tr>\n",
       "      <th>71225</th>\n",
       "      <td>20120102X93914</td>\n",
       "      <td>Accident</td>\n",
       "      <td>ERA12LA131</td>\n",
       "      <td>2012-01-01</td>\n",
       "      <td>Willimantic, CT</td>\n",
       "      <td>United States</td>\n",
       "      <td>414430N</td>\n",
       "      <td>0721123W</td>\n",
       "      <td>Non-Fatal</td>\n",
       "      <td>Substantial</td>\n",
       "      <td>...</td>\n",
       "      <td>1.0</td>\n",
       "      <td>Reciprocating</td>\n",
       "      <td>091</td>\n",
       "      <td>Personal</td>\n",
       "      <td>0.0</td>\n",
       "      <td>0.0</td>\n",
       "      <td>0.0</td>\n",
       "      <td>1.0</td>\n",
       "      <td>VMC</td>\n",
       "      <td>25-09-2020</td>\n",
       "    </tr>\n",
       "    <tr>\n",
       "      <th>71226</th>\n",
       "      <td>20120103X02043</td>\n",
       "      <td>Accident</td>\n",
       "      <td>CEN12LA120</td>\n",
       "      <td>2012-01-01</td>\n",
       "      <td>Lohn, TX</td>\n",
       "      <td>United States</td>\n",
       "      <td>311930N</td>\n",
       "      <td>0992430W</td>\n",
       "      <td>Non-Fatal</td>\n",
       "      <td>Substantial</td>\n",
       "      <td>...</td>\n",
       "      <td>1.0</td>\n",
       "      <td>Reciprocating</td>\n",
       "      <td>091</td>\n",
       "      <td>Aerial Observation</td>\n",
       "      <td>0.0</td>\n",
       "      <td>0.0</td>\n",
       "      <td>2.0</td>\n",
       "      <td>0.0</td>\n",
       "      <td>VMC</td>\n",
       "      <td>25-09-2020</td>\n",
       "    </tr>\n",
       "    <tr>\n",
       "      <th>71227</th>\n",
       "      <td>20111230X02532</td>\n",
       "      <td>Accident</td>\n",
       "      <td>WPR12CA073</td>\n",
       "      <td>2012-01-02</td>\n",
       "      <td>Eureka, CA</td>\n",
       "      <td>United States</td>\n",
       "      <td>404812N</td>\n",
       "      <td>0124646W</td>\n",
       "      <td>Non-Fatal</td>\n",
       "      <td>Substantial</td>\n",
       "      <td>...</td>\n",
       "      <td>1.0</td>\n",
       "      <td>Reciprocating</td>\n",
       "      <td>091</td>\n",
       "      <td>Personal</td>\n",
       "      <td>0.0</td>\n",
       "      <td>0.0</td>\n",
       "      <td>0.0</td>\n",
       "      <td>1.0</td>\n",
       "      <td>VMC</td>\n",
       "      <td>25-09-2020</td>\n",
       "    </tr>\n",
       "    <tr>\n",
       "      <th>71228</th>\n",
       "      <td>20120103X35104</td>\n",
       "      <td>Accident</td>\n",
       "      <td>ERA12CA134</td>\n",
       "      <td>2012-01-02</td>\n",
       "      <td>River Ranch, FL</td>\n",
       "      <td>United States</td>\n",
       "      <td>027543N</td>\n",
       "      <td>0813448W</td>\n",
       "      <td>Non-Fatal</td>\n",
       "      <td>Substantial</td>\n",
       "      <td>...</td>\n",
       "      <td>1.0</td>\n",
       "      <td>Reciprocating</td>\n",
       "      <td>091</td>\n",
       "      <td>Personal</td>\n",
       "      <td>0.0</td>\n",
       "      <td>0.0</td>\n",
       "      <td>0.0</td>\n",
       "      <td>3.0</td>\n",
       "      <td>VMC</td>\n",
       "      <td>25-09-2020</td>\n",
       "    </tr>\n",
       "    <tr>\n",
       "      <th>71229</th>\n",
       "      <td>20120103X94513</td>\n",
       "      <td>Accident</td>\n",
       "      <td>ERA12LA132</td>\n",
       "      <td>2012-01-02</td>\n",
       "      <td>Shelter Island, NY</td>\n",
       "      <td>United States</td>\n",
       "      <td>004140N</td>\n",
       "      <td>0722035W</td>\n",
       "      <td>Non-Fatal</td>\n",
       "      <td>Substantial</td>\n",
       "      <td>...</td>\n",
       "      <td>2.0</td>\n",
       "      <td>Reciprocating</td>\n",
       "      <td>091</td>\n",
       "      <td>Personal</td>\n",
       "      <td>0.0</td>\n",
       "      <td>0.0</td>\n",
       "      <td>0.0</td>\n",
       "      <td>1.0</td>\n",
       "      <td>VMC</td>\n",
       "      <td>25-09-2020</td>\n",
       "    </tr>\n",
       "  </tbody>\n",
       "</table>\n",
       "<p>5 rows × 25 columns</p>\n",
       "</div>"
      ],
      "text/plain": [
       "             Event.Id Investigation.Type Accident.Number Event.Date  \\\n",
       "71225  20120102X93914           Accident      ERA12LA131 2012-01-01   \n",
       "71226  20120103X02043           Accident      CEN12LA120 2012-01-01   \n",
       "71227  20111230X02532           Accident      WPR12CA073 2012-01-02   \n",
       "71228  20120103X35104           Accident      ERA12CA134 2012-01-02   \n",
       "71229  20120103X94513           Accident      ERA12LA132 2012-01-02   \n",
       "\n",
       "                 Location        Country Latitude Longitude Injury.Severity  \\\n",
       "71225     Willimantic, CT  United States  414430N  0721123W       Non-Fatal   \n",
       "71226            Lohn, TX  United States  311930N  0992430W       Non-Fatal   \n",
       "71227          Eureka, CA  United States  404812N  0124646W       Non-Fatal   \n",
       "71228     River Ranch, FL  United States  027543N  0813448W       Non-Fatal   \n",
       "71229  Shelter Island, NY  United States  004140N  0722035W       Non-Fatal   \n",
       "\n",
       "      Aircraft.damage  ... Number.of.Engines    Engine.Type FAR.Description  \\\n",
       "71225     Substantial  ...               1.0  Reciprocating             091   \n",
       "71226     Substantial  ...               1.0  Reciprocating             091   \n",
       "71227     Substantial  ...               1.0  Reciprocating             091   \n",
       "71228     Substantial  ...               1.0  Reciprocating             091   \n",
       "71229     Substantial  ...               2.0  Reciprocating             091   \n",
       "\n",
       "        Purpose.of.flight Total.Fatal.Injuries  Total.Serious.Injuries  \\\n",
       "71225            Personal                  0.0                     0.0   \n",
       "71226  Aerial Observation                  0.0                     0.0   \n",
       "71227            Personal                  0.0                     0.0   \n",
       "71228            Personal                  0.0                     0.0   \n",
       "71229            Personal                  0.0                     0.0   \n",
       "\n",
       "      Total.Minor.Injuries Total.Uninjured Weather.Condition  Publication.Date  \n",
       "71225                  0.0             1.0               VMC        25-09-2020  \n",
       "71226                  2.0             0.0               VMC        25-09-2020  \n",
       "71227                  0.0             1.0               VMC        25-09-2020  \n",
       "71228                  0.0             3.0               VMC        25-09-2020  \n",
       "71229                  0.0             1.0               VMC        25-09-2020  \n",
       "\n",
       "[5 rows x 25 columns]"
      ]
     },
     "execution_count": 66,
     "metadata": {},
     "output_type": "execute_result"
    }
   ],
   "source": [
    "df_filtered.head()"
   ]
  },
  {
   "cell_type": "code",
   "execution_count": 67,
   "id": "5957faa5",
   "metadata": {},
   "outputs": [
    {
     "name": "stdout",
     "output_type": "stream",
     "text": [
      "<class 'pandas.core.frame.DataFrame'>\n",
      "Index: 17664 entries, 71225 to 88888\n",
      "Data columns (total 25 columns):\n",
      " #   Column                  Non-Null Count  Dtype         \n",
      "---  ------                  --------------  -----         \n",
      " 0   Event.Id                17664 non-null  object        \n",
      " 1   Investigation.Type      17664 non-null  object        \n",
      " 2   Accident.Number         17664 non-null  object        \n",
      " 3   Event.Date              17664 non-null  datetime64[ns]\n",
      " 4   Location                17664 non-null  object        \n",
      " 5   Country                 17664 non-null  object        \n",
      " 6   Latitude                15571 non-null  object        \n",
      " 7   Longitude               15571 non-null  object        \n",
      " 8   Injury.Severity         16815 non-null  object        \n",
      " 9   Aircraft.damage         16437 non-null  object        \n",
      " 10  Aircraft.Category       17349 non-null  object        \n",
      " 11  Registration.Number     17654 non-null  object        \n",
      " 12  Make                    17649 non-null  object        \n",
      " 13  Model                   17644 non-null  object        \n",
      " 14  Amateur.Built           17664 non-null  object        \n",
      " 15  Number.of.Engines       14527 non-null  float64       \n",
      " 16  Engine.Type             12809 non-null  object        \n",
      " 17  FAR.Description         16957 non-null  object        \n",
      " 18  Purpose.of.flight       14130 non-null  object        \n",
      " 19  Total.Fatal.Injuries    17664 non-null  float64       \n",
      " 20  Total.Serious.Injuries  17664 non-null  float64       \n",
      " 21  Total.Minor.Injuries    17664 non-null  float64       \n",
      " 22  Total.Uninjured         17664 non-null  float64       \n",
      " 23  Weather.Condition       14275 non-null  object        \n",
      " 24  Publication.Date        16651 non-null  object        \n",
      "dtypes: datetime64[ns](1), float64(5), object(19)\n",
      "memory usage: 3.5+ MB\n"
     ]
    }
   ],
   "source": [
    "df_filtered.info()"
   ]
  },
  {
   "cell_type": "code",
   "execution_count": 68,
   "id": "abb6081f",
   "metadata": {},
   "outputs": [
    {
     "data": {
      "text/plain": [
       "(17664, 25)"
      ]
     },
     "execution_count": 68,
     "metadata": {},
     "output_type": "execute_result"
    }
   ],
   "source": [
    "# A summary of the filtered data to determine the number of rows and columns\n",
    "df_filtered.shape"
   ]
  },
  {
   "cell_type": "code",
   "execution_count": 69,
   "id": "f1aee5b5",
   "metadata": {},
   "outputs": [],
   "source": [
    "# Filter the most critical columns for data analysis\n",
    "critical_columns = ['Event.Date','Aircraft.damage','Make','Model','Weather.Condition','Total.Fatal.Injuries']\n",
    "df_filtered = df_filtered.dropna(subset=critical_columns)"
   ]
  },
  {
   "cell_type": "code",
   "execution_count": 70,
   "id": "63c22029",
   "metadata": {},
   "outputs": [
    {
     "data": {
      "text/plain": [
       "Event.Id                   0.000000\n",
       "Investigation.Type         0.000000\n",
       "Accident.Number            0.000000\n",
       "Event.Date                 0.000000\n",
       "Location                   0.000000\n",
       "Country                    0.000000\n",
       "Latitude                   0.464221\n",
       "Longitude                  0.464221\n",
       "Injury.Severity            0.203804\n",
       "Aircraft.damage            0.000000\n",
       "Aircraft.Category          0.073596\n",
       "Registration.Number        0.000000\n",
       "Make                       0.000000\n",
       "Model                      0.000000\n",
       "Amateur.Built              0.000000\n",
       "Number.of.Engines          4.642210\n",
       "Engine.Type               11.231884\n",
       "FAR.Description            0.158514\n",
       "Purpose.of.flight          4.053442\n",
       "Total.Fatal.Injuries       0.000000\n",
       "Total.Serious.Injuries     0.000000\n",
       "Total.Minor.Injuries       0.000000\n",
       "Total.Uninjured            0.000000\n",
       "Weather.Condition          0.000000\n",
       "Publication.Date           0.945426\n",
       "dtype: float64"
      ]
     },
     "execution_count": 70,
     "metadata": {},
     "output_type": "execute_result"
    }
   ],
   "source": [
    "(df_filtered.isnull().sum()/len(df))*100"
   ]
  },
  {
   "cell_type": "code",
   "execution_count": 71,
   "id": "299b08f3",
   "metadata": {},
   "outputs": [],
   "source": [
    "# Standardize text columns\n",
    "df_filtered['Weather.Condition'] = df_filtered['Weather.Condition'].str.upper()\n",
    "cols_to_title = ['Make','Engine.Type','Purpose.of.flight'] \n",
    "df_filtered[cols_to_title] = df_filtered[cols_to_title].apply(lambda x: x.str.title())"
   ]
  },
  {
   "cell_type": "code",
   "execution_count": 72,
   "id": "de31c717",
   "metadata": {},
   "outputs": [],
   "source": [
    "#to save the cleaned data in csv\n",
    "df_filtered.to_csv('cleaned_aviation_data.csv', index=False, encoding='utf-8-sig')"
   ]
  },
  {
   "cell_type": "markdown",
   "id": "089cdf87",
   "metadata": {},
   "source": [
    "#### RISK AND TRENDS ANALYSIS BY VISUALIZATIONS USING BARCHARTS AND LINE GRAPHS"
   ]
  },
  {
   "cell_type": "markdown",
   "id": "978f7a01",
   "metadata": {},
   "source": [
    "Total Fatal Injuries agaisnt Make Bar chart"
   ]
  },
  {
   "cell_type": "code",
   "execution_count": 73,
   "id": "31b3e5ab",
   "metadata": {},
   "outputs": [
    {
     "data": {
      "image/png": "[encoded data removed]",
      "text/plain": [
       "<Figure size 1200x600 with 1 Axes>"
      ]
     },
     "metadata": {},
     "output_type": "display_data"
    }
   ],
   "source": [
    "# Ensure 'Make' is treated as a category\n",
    "df['Make'] = df['Make'].astype('category')\n",
    "\n",
    "# Group by 'Make' and sum 'Total.Fatal.Injuries', then sort and take top 10\n",
    "fatal_injuries_by_make = df.groupby('Make', observed= False)['Total.Fatal.Injuries'].sum().sort_values(ascending=False).head(10)\n",
    "\n",
    "# Plotting the bar chart\n",
    "plt.figure(figsize=(12, 6))\n",
    "fatal_injuries_by_make.plot(kind='bar', color='tomato')\n",
    "\n",
    "plt.title('Top 10 Aircraft Makes by Total Fatal Injuries')\n",
    "plt.xlabel('Aircraft Make')\n",
    "plt.ylabel('Total Fatal Injuries')\n",
    "plt.xticks(rotation=45, ha='right')\n",
    "plt.tight_layout()\n",
    "plt.show()"
   ]
  },
  {
   "cell_type": "markdown",
   "id": "3b70067c",
   "metadata": {},
   "source": [
    "From the bar chart for total fatal injuries against aircraft make shows that the Model with the lowest fatalities is Mooney,Robinson,Ciruss Design corp and Beach in ascending order."
   ]
  },
  {
   "cell_type": "markdown",
   "id": "51c4be54",
   "metadata": {},
   "source": [
    "Total Fatal Injuries agaiinst weather condition"
   ]
  },
  {
   "cell_type": "code",
   "execution_count": 74,
   "id": "78325fe4",
   "metadata": {},
   "outputs": [
    {
     "data": {
      "image/png": "[encoded data removed]",
      "text/plain": [
       "<Figure size 1000x600 with 1 Axes>"
      ]
     },
     "metadata": {},
     "output_type": "display_data"
    }
   ],
   "source": [
    "# Total fatal injuries against weather condition.\n",
    "df['Weather.Condition'] = df['Weather.Condition'].astype('category')\n",
    "\n",
    "# Group by weather condition and sum fatal injuries\n",
    "fatal_injuries_by_weather = df.groupby('Weather.Condition', observed= False)['Total.Fatal.Injuries'].sum().sort_values(ascending=False)\n",
    "\n",
    "# Plotting the bar chart\n",
    "plt.figure(figsize=(10, 6))\n",
    "fatal_injuries_by_weather.plot(kind='bar', color='skyblue')\n",
    "\n",
    "plt.title('Total Fatal Injuries by Weather Condition')\n",
    "plt.xlabel('Weather Condition')\n",
    "plt.ylabel('Total Fatal Injuries')\n",
    "plt.xticks(rotation=45, ha='right')\n",
    "plt.tight_layout()\n",
    "plt.show()"
   ]
  },
  {
   "cell_type": "markdown",
   "id": "c9ac6ab9",
   "metadata": {},
   "source": [
    "Visual Meteorogical conditions(VMC/Clear weather) registered more fataliies as compared to bad weather, a clear indication that it is not about the weather condition and probably the pilots are more vigilant in bad weather than in good weather resulting in the output show. This imply that there is need to train pilots in be more extra vigilant during clear weather."
   ]
  },
  {
   "cell_type": "markdown",
   "id": "dcc77b53",
   "metadata": {},
   "source": [
    "  Total fatal injuries against event date."
   ]
  },
  {
   "cell_type": "code",
   "execution_count": 75,
   "id": "0febae04",
   "metadata": {},
   "outputs": [],
   "source": [
    "# parse the event date into datetime\n",
    "df['Event.Date'] = pd.to_datetime(df['Event.Date'], errors='coerce')"
   ]
  },
  {
   "cell_type": "code",
   "execution_count": 76,
   "id": "5a1219d4",
   "metadata": {},
   "outputs": [],
   "source": [
    "# Group by date ans sum injuries\n",
    "fatal_injuries_by_date = (\n",
    "    df.groupby('Event.Date', observed=False)['Total.Fatal.Injuries']\n",
    "    .sum()\n",
    "    .sort_index()\n",
    ")\n"
   ]
  },
  {
   "cell_type": "code",
   "execution_count": 77,
   "id": "ed6f5b5b",
   "metadata": {},
   "outputs": [
    {
     "data": {
      "image/png": "[encoded data removed]",
      "text/plain": [
       "<Figure size 1400x600 with 1 Axes>"
      ]
     },
     "metadata": {},
     "output_type": "display_data"
    }
   ],
   "source": [
    "# Plotting the line chart\n",
    "plt.figure(figsize=(14, 6))\n",
    "fatal_injuries_by_date.plot(kind='line', color='darkred')\n",
    "\n",
    "plt.title('Total Fatal Injuries Over Time')\n",
    "plt.xlabel('Event Date')\n",
    "plt.ylabel('Total Fatal Injuries')\n",
    "plt.grid(True)\n",
    "plt.tight_layout()\n",
    "plt.show()\n"
   ]
  },
  {
   "cell_type": "markdown",
   "id": "872c1335",
   "metadata": {},
   "source": [
    "The trend analysis for fatalities over time for a selected period between the year 2012 and the year 2022 indicates a decline, which is a good indicator of improvement over time. And therefore venturing into the business is viable and the best make to invest in is moneey since it registered minimal fataliies"
   ]
  },
  {
   "cell_type": "markdown",
   "id": "76068897",
   "metadata": {},
   "source": [
    "#### SUMMARY\n",
    "In conclusion venturing into Aviation industry can be a very competitive business and capital intensive, however it is recommended to invest in a make that causes minimal fatalies and can operate well in all weather conditions. From the analysis the best make to invest in is Bommey."
   ]
  }
 ],
 "metadata": {
  "kernelspec": {
   "display_name": "base",
   "language": "python",
   "name": "python3"
  },
  "language_info": {
   "codemirror_mode": {
    "name": "ipython",
    "version": 3
   },
   "file_extension": ".py",
   "mimetype": "text/x-python",
   "name": "python",
   "nbconvert_exporter": "python",
   "pygments_lexer": "ipython3",
   "version": "3.12.7"
  }
 },
 "nbformat": 4,
 "nbformat_minor": 5
}
