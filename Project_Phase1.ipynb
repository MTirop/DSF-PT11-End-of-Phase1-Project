{
 "cells": [
  {
   "cell_type": "markdown",
   "id": "85f93ac7",
   "metadata": {},
   "source": [
    "## ASSESMENT OF RISKS ASSOCIATED WITH VENTURING INTO AVIATION MARKET FOR COMPANY'S DECISION MAKING"
   ]
  },
  {
   "cell_type": "markdown",
   "id": "f6cd3119",
   "metadata": {},
   "source": [
    "###         BUSINESS PROBLEM"
   ]
  },
  {
   "cell_type": "markdown",
   "id": "5e234e8d",
   "metadata": {},
   "source": [
    "This project focuses on evaluating different categories of aircraft and selecting the best initial options for the company's entry into the aviation market, specifically targeting airplanes for commercial and private enterprises. It will therefore focus on analysis historical data giving an overview of the risks associated with running aircraft business such as operational risks, mantainance costs based on aircraft damage ,aircraft safety measured by the number of accident incidences."
   ]
  },
  {
   "cell_type": "markdown",
   "id": "15f55006",
   "metadata": {},
   "source": [
    "####           OBJECTIVES\n",
    "* To determine potential risks associated with aircraft business\n",
    "* To determine which aircraft are the lowest risk for the company to Venture into.\n",
    "* To identify the most economical aircraft for recommendation to the management."
   ]
  },
  {
   "cell_type": "markdown",
   "id": "dc15240b",
   "metadata": {},
   "source": [
    "#### EXPLORATORY DATA ALALYSIS(EDA)\n",
    "The goal of this project is to help the company make informed decisions on whether to enter into Aviation industry and this can only be achieved by carry out comprehensive analysis of the data given to determine the level of risks associated with this industry. The analysis has therefore employed the use of pandas and various libraries to explore the data."
   ]
  },
  {
   "cell_type": "code",
   "execution_count": 10,
   "id": "b663a60c",
   "metadata": {},
   "outputs": [],
   "source": [
    "#Importing the various libraries for purposes of reading the data, statitical /Eploratory data analysis and data visualization\n",
    "import pandas as pd\n",
    "import numpy as np\n",
    "import matplotlib.pyplot as plt\n",
    "import seaborn as sns\n",
    "%matplotlib inline\n"
   ]
  },
  {
   "cell_type": "code",
   "execution_count": 5,
   "id": "20f6e268",
   "metadata": {},
   "outputs": [],
   "source": [
    "# Reading 'AviationData.csv' into pandas dataframe with the variable name df\n",
    "df = pd.read_csv('Data\\\\AviationData.csv', encoding = 'latin1', low_memory= False)"
   ]
  },
  {
   "cell_type": "code",
   "execution_count": 13,
   "id": "e3696ba1",
   "metadata": {},
   "outputs": [
    {
     "data": {
      "text/html": [
       "<div>\n",
       "<style scoped>\n",
       "    .dataframe tbody tr th:only-of-type {\n",
       "        vertical-align: middle;\n",
       "    }\n",
       "\n",
       "    .dataframe tbody tr th {\n",
       "        vertical-align: top;\n",
       "    }\n",
       "\n",
       "    .dataframe thead th {\n",
       "        text-align: right;\n",
       "    }\n",
       "</style>\n",
       "<table border=\"1\" class=\"dataframe\">\n",
       "  <thead>\n",
       "    <tr style=\"text-align: right;\">\n",
       "      <th></th>\n",
       "      <th>Event.Id</th>\n",
       "      <th>Investigation.Type</th>\n",
       "      <th>Accident.Number</th>\n",
       "      <th>Event.Date</th>\n",
       "      <th>Location</th>\n",
       "      <th>Country</th>\n",
       "      <th>Latitude</th>\n",
       "      <th>Longitude</th>\n",
       "      <th>Airport.Code</th>\n",
       "      <th>Airport.Name</th>\n",
       "      <th>...</th>\n",
       "      <th>Purpose.of.flight</th>\n",
       "      <th>Air.carrier</th>\n",
       "      <th>Total.Fatal.Injuries</th>\n",
       "      <th>Total.Serious.Injuries</th>\n",
       "      <th>Total.Minor.Injuries</th>\n",
       "      <th>Total.Uninjured</th>\n",
       "      <th>Weather.Condition</th>\n",
       "      <th>Broad.phase.of.flight</th>\n",
       "      <th>Report.Status</th>\n",
       "      <th>Publication.Date</th>\n",
       "    </tr>\n",
       "  </thead>\n",
       "  <tbody>\n",
       "    <tr>\n",
       "      <th>0</th>\n",
       "      <td>20001218X45444</td>\n",
       "      <td>Accident</td>\n",
       "      <td>SEA87LA080</td>\n",
       "      <td>1948-10-24</td>\n",
       "      <td>MOOSE CREEK, ID</td>\n",
       "      <td>United States</td>\n",
       "      <td>NaN</td>\n",
       "      <td>NaN</td>\n",
       "      <td>NaN</td>\n",
       "      <td>NaN</td>\n",
       "      <td>...</td>\n",
       "      <td>Personal</td>\n",
       "      <td>NaN</td>\n",
       "      <td>2.0</td>\n",
       "      <td>0.0</td>\n",
       "      <td>0.0</td>\n",
       "      <td>0.0</td>\n",
       "      <td>UNK</td>\n",
       "      <td>Cruise</td>\n",
       "      <td>Probable Cause</td>\n",
       "      <td>NaN</td>\n",
       "    </tr>\n",
       "    <tr>\n",
       "      <th>1</th>\n",
       "      <td>20001218X45447</td>\n",
       "      <td>Accident</td>\n",
       "      <td>LAX94LA336</td>\n",
       "      <td>1962-07-19</td>\n",
       "      <td>BRIDGEPORT, CA</td>\n",
       "      <td>United States</td>\n",
       "      <td>NaN</td>\n",
       "      <td>NaN</td>\n",
       "      <td>NaN</td>\n",
       "      <td>NaN</td>\n",
       "      <td>...</td>\n",
       "      <td>Personal</td>\n",
       "      <td>NaN</td>\n",
       "      <td>4.0</td>\n",
       "      <td>0.0</td>\n",
       "      <td>0.0</td>\n",
       "      <td>0.0</td>\n",
       "      <td>UNK</td>\n",
       "      <td>Unknown</td>\n",
       "      <td>Probable Cause</td>\n",
       "      <td>19-09-1996</td>\n",
       "    </tr>\n",
       "    <tr>\n",
       "      <th>2</th>\n",
       "      <td>20061025X01555</td>\n",
       "      <td>Accident</td>\n",
       "      <td>NYC07LA005</td>\n",
       "      <td>1974-08-30</td>\n",
       "      <td>Saltville, VA</td>\n",
       "      <td>United States</td>\n",
       "      <td>36.922223</td>\n",
       "      <td>-81.878056</td>\n",
       "      <td>NaN</td>\n",
       "      <td>NaN</td>\n",
       "      <td>...</td>\n",
       "      <td>Personal</td>\n",
       "      <td>NaN</td>\n",
       "      <td>3.0</td>\n",
       "      <td>NaN</td>\n",
       "      <td>NaN</td>\n",
       "      <td>NaN</td>\n",
       "      <td>IMC</td>\n",
       "      <td>Cruise</td>\n",
       "      <td>Probable Cause</td>\n",
       "      <td>26-02-2007</td>\n",
       "    </tr>\n",
       "    <tr>\n",
       "      <th>3</th>\n",
       "      <td>20001218X45448</td>\n",
       "      <td>Accident</td>\n",
       "      <td>LAX96LA321</td>\n",
       "      <td>1977-06-19</td>\n",
       "      <td>EUREKA, CA</td>\n",
       "      <td>United States</td>\n",
       "      <td>NaN</td>\n",
       "      <td>NaN</td>\n",
       "      <td>NaN</td>\n",
       "      <td>NaN</td>\n",
       "      <td>...</td>\n",
       "      <td>Personal</td>\n",
       "      <td>NaN</td>\n",
       "      <td>2.0</td>\n",
       "      <td>0.0</td>\n",
       "      <td>0.0</td>\n",
       "      <td>0.0</td>\n",
       "      <td>IMC</td>\n",
       "      <td>Cruise</td>\n",
       "      <td>Probable Cause</td>\n",
       "      <td>12-09-2000</td>\n",
       "    </tr>\n",
       "    <tr>\n",
       "      <th>4</th>\n",
       "      <td>20041105X01764</td>\n",
       "      <td>Accident</td>\n",
       "      <td>CHI79FA064</td>\n",
       "      <td>1979-08-02</td>\n",
       "      <td>Canton, OH</td>\n",
       "      <td>United States</td>\n",
       "      <td>NaN</td>\n",
       "      <td>NaN</td>\n",
       "      <td>NaN</td>\n",
       "      <td>NaN</td>\n",
       "      <td>...</td>\n",
       "      <td>Personal</td>\n",
       "      <td>NaN</td>\n",
       "      <td>1.0</td>\n",
       "      <td>2.0</td>\n",
       "      <td>NaN</td>\n",
       "      <td>0.0</td>\n",
       "      <td>VMC</td>\n",
       "      <td>Approach</td>\n",
       "      <td>Probable Cause</td>\n",
       "      <td>16-04-1980</td>\n",
       "    </tr>\n",
       "  </tbody>\n",
       "</table>\n",
       "<p>5 rows × 31 columns</p>\n",
       "</div>"
      ],
      "text/plain": [
       "         Event.Id Investigation.Type Accident.Number  Event.Date  \\\n",
       "0  20001218X45444           Accident      SEA87LA080  1948-10-24   \n",
       "1  20001218X45447           Accident      LAX94LA336  1962-07-19   \n",
       "2  20061025X01555           Accident      NYC07LA005  1974-08-30   \n",
       "3  20001218X45448           Accident      LAX96LA321  1977-06-19   \n",
       "4  20041105X01764           Accident      CHI79FA064  1979-08-02   \n",
       "\n",
       "          Location        Country   Latitude   Longitude Airport.Code  \\\n",
       "0  MOOSE CREEK, ID  United States        NaN         NaN          NaN   \n",
       "1   BRIDGEPORT, CA  United States        NaN         NaN          NaN   \n",
       "2    Saltville, VA  United States  36.922223  -81.878056          NaN   \n",
       "3       EUREKA, CA  United States        NaN         NaN          NaN   \n",
       "4       Canton, OH  United States        NaN         NaN          NaN   \n",
       "\n",
       "  Airport.Name  ... Purpose.of.flight Air.carrier Total.Fatal.Injuries  \\\n",
       "0          NaN  ...          Personal         NaN                  2.0   \n",
       "1          NaN  ...          Personal         NaN                  4.0   \n",
       "2          NaN  ...          Personal         NaN                  3.0   \n",
       "3          NaN  ...          Personal         NaN                  2.0   \n",
       "4          NaN  ...          Personal         NaN                  1.0   \n",
       "\n",
       "  Total.Serious.Injuries Total.Minor.Injuries Total.Uninjured  \\\n",
       "0                    0.0                  0.0             0.0   \n",
       "1                    0.0                  0.0             0.0   \n",
       "2                    NaN                  NaN             NaN   \n",
       "3                    0.0                  0.0             0.0   \n",
       "4                    2.0                  NaN             0.0   \n",
       "\n",
       "  Weather.Condition  Broad.phase.of.flight   Report.Status Publication.Date  \n",
       "0               UNK                 Cruise  Probable Cause              NaN  \n",
       "1               UNK                Unknown  Probable Cause       19-09-1996  \n",
       "2               IMC                 Cruise  Probable Cause       26-02-2007  \n",
       "3               IMC                 Cruise  Probable Cause       12-09-2000  \n",
       "4               VMC               Approach  Probable Cause       16-04-1980  \n",
       "\n",
       "[5 rows x 31 columns]"
      ]
     },
     "execution_count": 13,
     "metadata": {},
     "output_type": "execute_result"
    }
   ],
   "source": [
    "#Getting the first five rows of the data to get a quick synopsis of the data structure in order to dertimine the next cause of action\n",
    "df.head()"
   ]
  },
  {
   "cell_type": "code",
   "execution_count": 15,
   "id": "2eb2184a",
   "metadata": {},
   "outputs": [
    {
     "name": "stdout",
     "output_type": "stream",
     "text": [
      "<class 'pandas.core.frame.DataFrame'>\n",
      "RangeIndex: 88889 entries, 0 to 88888\n",
      "Data columns (total 31 columns):\n",
      " #   Column                  Non-Null Count  Dtype  \n",
      "---  ------                  --------------  -----  \n",
      " 0   Event.Id                88889 non-null  object \n",
      " 1   Investigation.Type      88889 non-null  object \n",
      " 2   Accident.Number         88889 non-null  object \n",
      " 3   Event.Date              88889 non-null  object \n",
      " 4   Location                88837 non-null  object \n",
      " 5   Country                 88663 non-null  object \n",
      " 6   Latitude                34382 non-null  object \n",
      " 7   Longitude               34373 non-null  object \n",
      " 8   Airport.Code            50132 non-null  object \n",
      " 9   Airport.Name            52704 non-null  object \n",
      " 10  Injury.Severity         87889 non-null  object \n",
      " 11  Aircraft.damage         85695 non-null  object \n",
      " 12  Aircraft.Category       32287 non-null  object \n",
      " 13  Registration.Number     87507 non-null  object \n",
      " 14  Make                    88826 non-null  object \n",
      " 15  Model                   88797 non-null  object \n",
      " 16  Amateur.Built           88787 non-null  object \n",
      " 17  Number.of.Engines       82805 non-null  float64\n",
      " 18  Engine.Type             81793 non-null  object \n",
      " 19  FAR.Description         32023 non-null  object \n",
      " 20  Schedule                12582 non-null  object \n",
      " 21  Purpose.of.flight       82697 non-null  object \n",
      " 22  Air.carrier             16648 non-null  object \n",
      " 23  Total.Fatal.Injuries    77488 non-null  float64\n",
      " 24  Total.Serious.Injuries  76379 non-null  float64\n",
      " 25  Total.Minor.Injuries    76956 non-null  float64\n",
      " 26  Total.Uninjured         82977 non-null  float64\n",
      " 27  Weather.Condition       84397 non-null  object \n",
      " 28  Broad.phase.of.flight   61724 non-null  object \n",
      " 29  Report.Status           82505 non-null  object \n",
      " 30  Publication.Date        75118 non-null  object \n",
      "dtypes: float64(5), object(26)\n",
      "memory usage: 21.0+ MB\n"
     ]
    }
   ],
   "source": [
    "#Summary review of the DataFrame\n",
    "df.info()"
   ]
  },
  {
   "cell_type": "markdown",
   "id": "0ee7052b",
   "metadata": {},
   "source": [
    "Summary Information on the dataFrame indicates the is data cleaning that needs to be done, from the above output, the data type for Accidents.Number has been returned as n object and not an interger and yet it takes the form of discrete data."
   ]
  },
  {
   "cell_type": "code",
   "execution_count": 16,
   "id": "a24710cf",
   "metadata": {},
   "outputs": [
    {
     "data": {
      "text/plain": [
       "(88889, 31)"
      ]
     },
     "execution_count": 16,
     "metadata": {},
     "output_type": "execute_result"
    }
   ],
   "source": [
    "df.shape"
   ]
  },
  {
   "cell_type": "code",
   "execution_count": 18,
   "id": "5b6c23e5",
   "metadata": {},
   "outputs": [
    {
     "name": "stdout",
     "output_type": "stream",
     "text": [
      "Aircraft.Category\n",
      "Airplane             27617\n",
      "Helicopter            3440\n",
      "Glider                 508\n",
      "Balloon                231\n",
      "Gyrocraft              173\n",
      "Weight-Shift           161\n",
      "Powered Parachute       91\n",
      "Ultralight              30\n",
      "Unknown                 14\n",
      "WSFT                     9\n",
      "Powered-Lift             5\n",
      "Blimp                    4\n",
      "UNK                      2\n",
      "Rocket                   1\n",
      "ULTR                     1\n",
      "Name: count, dtype: int64\n"
     ]
    }
   ],
   "source": [
    "# To determine the possible outliers in the dataframe- Values that don't fit with the pattern of the data\n",
    "category_counts = df['Aircraft.Category'].value_counts()\n",
    "print(category_counts)"
   ]
  },
  {
   "cell_type": "markdown",
   "id": "f7397d73",
   "metadata": {},
   "source": [
    "The aircraft Category has one that is unknown which is a clear indicator of a data point that significantly differ from the rest."
   ]
  },
  {
   "cell_type": "code",
   "execution_count": 20,
   "id": "590885a2",
   "metadata": {},
   "outputs": [
    {
     "name": "stdout",
     "output_type": "stream",
     "text": [
      "Accident.Number\n",
      "CEN22LA149    2\n",
      "WPR23LA041    2\n",
      "WPR23LA045    2\n",
      "DCA22WA214    2\n",
      "DCA22WA089    2\n",
      "             ..\n",
      "LAX92FA065    1\n",
      "ANC92T#A12    1\n",
      "MIA92LA049    1\n",
      "NYC92LA048    1\n",
      "ERA23LA097    1\n",
      "Name: count, Length: 88863, dtype: int64\n"
     ]
    }
   ],
   "source": [
    "Accident_counts = df['Accident.Number'].value_counts()\n",
    "print(Accident_counts)"
   ]
  },
  {
   "cell_type": "code",
   "execution_count": 22,
   "id": "19b3be5a",
   "metadata": {},
   "outputs": [
    {
     "name": "stdout",
     "output_type": "stream",
     "text": [
      "Aircraft.damage\n",
      "Substantial    64148\n",
      "Destroyed      18623\n",
      "Minor           2805\n",
      "Unknown          119\n",
      "Name: count, dtype: int64\n"
     ]
    }
   ],
   "source": [
    "damage_counts = df['Aircraft.damage'].value_counts()\n",
    "print(damage_counts)"
   ]
  },
  {
   "cell_type": "code",
   "execution_count": 24,
   "id": "53d61554",
   "metadata": {},
   "outputs": [
    {
     "name": "stdout",
     "output_type": "stream",
     "text": [
      "Number.of.Engines\n",
      "1.0    69582\n",
      "2.0    11079\n",
      "0.0     1226\n",
      "3.0      483\n",
      "4.0      431\n",
      "8.0        3\n",
      "6.0        1\n",
      "Name: count, dtype: int64\n"
     ]
    }
   ],
   "source": [
    "Engine_counts = df['Number.of.Engines'].value_counts()\n",
    "print(Engine_counts)"
   ]
  },
  {
   "cell_type": "code",
   "execution_count": 25,
   "id": "63e486aa",
   "metadata": {},
   "outputs": [
    {
     "data": {
      "text/plain": [
       "Event.Id                      0\n",
       "Investigation.Type            0\n",
       "Accident.Number               0\n",
       "Event.Date                    0\n",
       "Location                     52\n",
       "Country                     226\n",
       "Latitude                  54507\n",
       "Longitude                 54516\n",
       "Airport.Code              38757\n",
       "Airport.Name              36185\n",
       "Injury.Severity            1000\n",
       "Aircraft.damage            3194\n",
       "Aircraft.Category         56602\n",
       "Registration.Number        1382\n",
       "Make                         63\n",
       "Model                        92\n",
       "Amateur.Built               102\n",
       "Number.of.Engines          6084\n",
       "Engine.Type                7096\n",
       "FAR.Description           56866\n",
       "Schedule                  76307\n",
       "Purpose.of.flight          6192\n",
       "Air.carrier               72241\n",
       "Total.Fatal.Injuries      11401\n",
       "Total.Serious.Injuries    12510\n",
       "Total.Minor.Injuries      11933\n",
       "Total.Uninjured            5912\n",
       "Weather.Condition          4492\n",
       "Broad.phase.of.flight     27165\n",
       "Report.Status              6384\n",
       "Publication.Date          13771\n",
       "dtype: int64"
      ]
     },
     "execution_count": 25,
     "metadata": {},
     "output_type": "execute_result"
    }
   ],
   "source": [
    "#To identify any missing values in the dataframe\n",
    "df.isnull().sum()"
   ]
  },
  {
   "cell_type": "code",
   "execution_count": 27,
   "id": "0cdcd9b6",
   "metadata": {},
   "outputs": [
    {
     "data": {
      "text/plain": [
       "Aircraft.Category\n",
       "NaN                  56602\n",
       "Airplane             27617\n",
       "Helicopter            3440\n",
       "Glider                 508\n",
       "Balloon                231\n",
       "Gyrocraft              173\n",
       "Weight-Shift           161\n",
       "Powered Parachute       91\n",
       "Ultralight              30\n",
       "Unknown                 14\n",
       "WSFT                     9\n",
       "Powered-Lift             5\n",
       "Blimp                    4\n",
       "UNK                      2\n",
       "Rocket                   1\n",
       "ULTR                     1\n",
       "Name: count, dtype: int64"
      ]
     },
     "execution_count": 27,
     "metadata": {},
     "output_type": "execute_result"
    }
   ],
   "source": [
    "#Using value counts for categorical columns which are important in arriving at the conclusion to determine unique values\n",
    "df['Aircraft.Category'].value_counts(dropna=False)"
   ]
  },
  {
   "cell_type": "code",
   "execution_count": 4,
   "id": "27876010",
   "metadata": {},
   "outputs": [
    {
     "data": {
      "text/plain": [
       "<class 'pandas.core.series.Series'>    31\n",
       "Name: count, dtype: int64"
      ]
     },
     "execution_count": 4,
     "metadata": {},
     "output_type": "execute_result"
    }
   ],
   "source": [
    "# To identify how many different data types are in a column.\n",
    "df.apply(type).value_counts()\n"
   ]
  },
  {
   "cell_type": "code",
   "execution_count": 6,
   "id": "bb7ac1c5",
   "metadata": {},
   "outputs": [
    {
     "name": "stdout",
     "output_type": "stream",
     "text": [
      "0 Event.Id\n",
      "1 Investigation.Type\n",
      "2 Accident.Number\n",
      "3 Event.Date\n",
      "4 Location\n",
      "5 Country\n",
      "6 Latitude\n",
      "7 Longitude\n",
      "8 Airport.Code\n",
      "9 Airport.Name\n",
      "10 Injury.Severity\n",
      "11 Aircraft.damage\n",
      "12 Aircraft.Category\n",
      "13 Registration.Number\n",
      "14 Make\n",
      "15 Model\n",
      "16 Amateur.Built\n",
      "17 Number.of.Engines\n",
      "18 Engine.Type\n",
      "19 FAR.Description\n",
      "20 Schedule\n",
      "21 Purpose.of.flight\n",
      "22 Air.carrier\n",
      "23 Total.Fatal.Injuries\n",
      "24 Total.Serious.Injuries\n",
      "25 Total.Minor.Injuries\n",
      "26 Total.Uninjured\n",
      "27 Weather.Condition\n",
      "28 Broad.phase.of.flight\n",
      "29 Report.Status\n",
      "30 Publication.Date\n"
     ]
    }
   ],
   "source": [
    "# Check column names with their positions\n",
    "for i, col in enumerate(df.columns):\n",
    "    print(i, col)"
   ]
  },
  {
   "cell_type": "code",
   "execution_count": 7,
   "id": "5cb0b816",
   "metadata": {},
   "outputs": [
    {
     "name": "stdout",
     "output_type": "stream",
     "text": [
      "Longitude\n",
      "<class 'float'>    54516\n",
      "<class 'str'>      34373\n",
      "Name: count, dtype: int64\n",
      "Latitude\n",
      "<class 'float'>    54507\n",
      "<class 'str'>      34382\n",
      "Name: count, dtype: int64\n",
      "Broad.phase.of.flight\n",
      "<class 'str'>      61724\n",
      "<class 'float'>    27165\n",
      "Name: count, dtype: int64\n"
     ]
    }
   ],
   "source": [
    "# Check types inside each column\n",
    "print(df['Longitude'].apply(type).value_counts())\n",
    "print(df['Latitude'].apply(type).value_counts())\n",
    "print(df['Broad.phase.of.flight'].apply(type).value_counts())\n"
   ]
  },
  {
   "cell_type": "markdown",
   "id": "7c72b786",
   "metadata": {},
   "source": [
    "These columns contains both numeric and text values, however those columns are not critical to the primary objectives of our our data analysis,hence no deeper analysis on those columns."
   ]
  },
  {
   "cell_type": "markdown",
   "id": "2c176391",
   "metadata": {},
   "source": [
    "### DATA CLEANING\n",
    "It is important to employ the critical columns that will help determine the risk associated with venturing into aviation business. A new set of data will therefore be created with the columns only neccesary for this analysis. The columns include but not limited to: Event ID,Accident.Number,Aircraft Category,Aircraft damage, Event date, Total Fatal Injuries, Total Serious Injuries, weather condition, Injury Severity, Broad phase of flight.These fields are directly related to accident frequency, severity, aircraft type, and environmental conditions, which are critical for evaluating business risks in aviation."
   ]
  },
  {
   "cell_type": "code",
   "execution_count": 1,
   "id": "cea62520",
   "metadata": {},
   "outputs": [],
   "source": [
    "# To create a new list of the important columns into a variable called Important_Columns\n",
    "Important_Columns = ['Event.Id','Accident.Number','Event.Date','Location','Injury.Severity','Aircraft.damage','Aircraft.Category','FAR.Description','Purpose.of.flight','Total.Fatal.Injuries','Total.Serious.Injuries','Weather.Condition']"
   ]
  },
  {
   "cell_type": "code",
   "execution_count": 2,
   "id": "13761fd8",
   "metadata": {},
   "outputs": [
    {
     "name": "stdout",
     "output_type": "stream",
     "text": [
      "['Event.Id', 'Accident.Number', 'Event.Date', 'Location', 'Injury.Severity', 'Aircraft.damage', 'Aircraft.Category', 'FAR.Description', 'Purpose.of.flight', 'Total.Fatal.Injuries', 'Total.Serious.Injuries', 'Weather.Condition']\n"
     ]
    }
   ],
   "source": [
    "# Print important columns\n",
    "print(Important_Columns)"
   ]
  },
  {
   "cell_type": "code",
   "execution_count": 7,
   "id": "8b1c10cb",
   "metadata": {},
   "outputs": [
    {
     "name": "stdout",
     "output_type": "stream",
     "text": [
      "             Event.Id Accident.Number  Event.Date         Location  \\\n",
      "0      20001218X45444      SEA87LA080  1948-10-24  MOOSE CREEK, ID   \n",
      "1      20001218X45447      LAX94LA336  1962-07-19   BRIDGEPORT, CA   \n",
      "2      20061025X01555      NYC07LA005  1974-08-30    Saltville, VA   \n",
      "3      20001218X45448      LAX96LA321  1977-06-19       EUREKA, CA   \n",
      "4      20041105X01764      CHI79FA064  1979-08-02       Canton, OH   \n",
      "...               ...             ...         ...              ...   \n",
      "88884  20221227106491      ERA23LA093  2022-12-26    Annapolis, MD   \n",
      "88885  20221227106494      ERA23LA095  2022-12-26      Hampton, NH   \n",
      "88886  20221227106497      WPR23LA075  2022-12-26       Payson, AZ   \n",
      "88887  20221227106498      WPR23LA076  2022-12-26       Morgan, UT   \n",
      "88888  20221230106513      ERA23LA097  2022-12-29       Athens, GA   \n",
      "\n",
      "      Injury.Severity Aircraft.damage Aircraft.Category FAR.Description  \\\n",
      "0            Fatal(2)       Destroyed               NaN             NaN   \n",
      "1            Fatal(4)       Destroyed               NaN             NaN   \n",
      "2            Fatal(3)       Destroyed               NaN             NaN   \n",
      "3            Fatal(2)       Destroyed               NaN             NaN   \n",
      "4            Fatal(1)       Destroyed               NaN             NaN   \n",
      "...               ...             ...               ...             ...   \n",
      "88884           Minor             NaN               NaN             091   \n",
      "88885             NaN             NaN               NaN             NaN   \n",
      "88886       Non-Fatal     Substantial          Airplane             091   \n",
      "88887             NaN             NaN               NaN             091   \n",
      "88888           Minor             NaN               NaN             091   \n",
      "\n",
      "      Purpose.of.flight  Total.Fatal.Injuries  Total.Serious.Injuries  \\\n",
      "0              Personal                   2.0                     0.0   \n",
      "1              Personal                   4.0                     0.0   \n",
      "2              Personal                   3.0                     NaN   \n",
      "3              Personal                   2.0                     0.0   \n",
      "4              Personal                   1.0                     2.0   \n",
      "...                 ...                   ...                     ...   \n",
      "88884          Personal                   0.0                     1.0   \n",
      "88885               NaN                   0.0                     0.0   \n",
      "88886          Personal                   0.0                     0.0   \n",
      "88887          Personal                   0.0                     0.0   \n",
      "88888          Personal                   0.0                     1.0   \n",
      "\n",
      "      Weather.Condition  \n",
      "0                   UNK  \n",
      "1                   UNK  \n",
      "2                   IMC  \n",
      "3                   IMC  \n",
      "4                   VMC  \n",
      "...                 ...  \n",
      "88884               NaN  \n",
      "88885               NaN  \n",
      "88886               VMC  \n",
      "88887               NaN  \n",
      "88888               NaN  \n",
      "\n",
      "[88889 rows x 12 columns]\n"
     ]
    }
   ],
   "source": [
    "# Creating a new dataFrame with the important columns for risk analysis with the dataframe variable Risk_df\n",
    "Risk_df = df[Important_Columns]\n",
    "print(Risk_df)"
   ]
  },
  {
   "cell_type": "markdown",
   "id": "089cdf87",
   "metadata": {},
   "source": [
    "### RISK AND TRENDS ANALYSIS BY VISUALIZATIONS USING BARCHARTS AND LINE GRAPHS\n",
    "Accident Number by Weather Conditions"
   ]
  },
  {
   "cell_type": "code",
   "execution_count": 17,
   "id": "5a70a266",
   "metadata": {},
   "outputs": [
    {
     "data": {
      "image/png": "[encoded data removed]",
      "text/plain": [
       "<Figure size 1000x600 with 1 Axes>"
      ]
     },
     "metadata": {},
     "output_type": "display_data"
    }
   ],
   "source": [
    "plt.figure(figsize=(10,6))\n",
    "sns.set_style('darkgrid')\n",
    "\n",
    "sns.countplot(\n",
    "    data=Risk_df,\n",
    "    x='Weather.Condition',\n",
    "    hue='Weather.Condition',\n",
    "    order=Risk_df['Weather.Condition'].value_counts().index,\n",
    "    palette='coolwarm',\n",
    "    legend=False\n",
    ")\n",
    "\n",
    "plt.title('Number of Accidents by Weather Condition')\n",
    "plt.xlabel('Weather Condition')\n",
    "plt.ylabel('Number of Accidents')\n",
    "plt.show()"
   ]
  },
  {
   "cell_type": "markdown",
   "id": "44b2e009",
   "metadata": {},
   "source": [
    "From the bar chart it is clear that most accidents occur during good weather as compared to the other two weather conditions,safety systems must be implemented well even in good weathers."
   ]
  }
 ],
 "metadata": {
  "kernelspec": {
   "display_name": "base",
   "language": "python",
   "name": "python3"
  },
  "language_info": {
   "codemirror_mode": {
    "name": "ipython",
    "version": 3
   },
   "file_extension": ".py",
   "mimetype": "text/x-python",
   "name": "python",
   "nbconvert_exporter": "python",
   "pygments_lexer": "ipython3",
   "version": "3.12.7"
  }
 },
 "nbformat": 4,
 "nbformat_minor": 5
}
